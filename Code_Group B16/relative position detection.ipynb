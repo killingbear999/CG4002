{
  "nbformat": 4,
  "nbformat_minor": 0,
  "metadata": {
    "colab": {
      "name": "positioning.ipynb",
      "provenance": []
    },
    "kernelspec": {
      "name": "python3",
      "display_name": "Python 3"
    },
    "language_info": {
      "name": "python"
    }
  },
  "cells": [
    {
      "cell_type": "markdown",
      "metadata": {
        "id": "wf-u2D-SZuwm"
      },
      "source": [
        "# **This notebook represents an algorithm to detect dancers' relative position**"
      ]
    },
    {
      "cell_type": "code",
      "metadata": {
        "id": "LnELpR8GGkp_",
        "colab": {
          "base_uri": "https://localhost:8080/"
        },
        "outputId": "92cdfe1d-2be9-4039-ced9-e9e34bb1312a"
      },
      "source": [
        "from google.colab import drive\n",
        "drive.mount('/content/drive')"
      ],
      "execution_count": null,
      "outputs": [
        {
          "output_type": "stream",
          "name": "stdout",
          "text": [
            "Mounted at /content/drive\n"
          ]
        }
      ]
    },
    {
      "cell_type": "code",
      "metadata": {
        "id": "ETIY8n8-aXdd"
      },
      "source": [
        "def update_position(current_position):\n",
        "  # input current_position and update dancers' position respectively\n",
        "  global position1\n",
        "  global position2\n",
        "  global position3\n",
        "  if (current_position == '1 2 3'):\n",
        "    position1 = left\n",
        "    position2 = middle\n",
        "    position3 = right\n",
        "  elif (current_position == '1 3 2'):\n",
        "    position1 = left\n",
        "    position2 = right\n",
        "    position3 = middle\n",
        "  elif (current_position == '2 1 3'):\n",
        "    position1 = middle\n",
        "    position2 = left\n",
        "    position3 = right\n",
        "  elif (current_position == '3 1 2'):\n",
        "    position1 = middle\n",
        "    position2 = right\n",
        "    position3 = left\n",
        "  elif (current_position == '2 3 1'):\n",
        "    position1 = right\n",
        "    position2 = left\n",
        "    position3 = middle\n",
        "  elif (current_position == '3 2 1'):\n",
        "    position1 = right\n",
        "    position2 = middle\n",
        "    position3 = left"
      ],
      "execution_count": null,
      "outputs": []
    },
    {
      "cell_type": "code",
      "metadata": {
        "id": "R5fM0qAKsStb"
      },
      "source": [
        "def return_output(position1, position2, position3): \n",
        "  left = 1\n",
        "  middle = 2\n",
        "  right = 3 \n",
        "  if (position1 == left and position2 == middle and position3 == right):\n",
        "    return 123\n",
        "  elif (position1 == left and position2 == right and position3 == middle):\n",
        "    return 132\n",
        "  elif (position1 == middle and position2 == left and position3 == right):\n",
        "    return 213\n",
        "  elif (position1 == middle and position2 == right and position3 == left):\n",
        "    return 312\n",
        "  elif (position1 == right and position2 == left and position3 == middle):\n",
        "    return 231\n",
        "  elif (position1 == right and position2 == middle and position3 == left):\n",
        "    return 321"
      ],
      "execution_count": null,
      "outputs": []
    },
    {
      "cell_type": "code",
      "metadata": {
        "colab": {
          "base_uri": "https://localhost:8080/"
        },
        "id": "Sg3NZmOHd-ZP",
        "outputId": "1e8c6346-af52-4996-f0c0-4bfb02ac2fef"
      },
      "source": [
        "# testing\n",
        "import pandas as pd\n",
        "import numpy as np\n",
        "test = pd.read_csv('/content/drive/MyDrive/CG4002/testing data/right20.txt').values\n",
        "print(len(test))\n",
        "direction = directioning(test)\n",
        "if direction == True:\n",
        "  print(\"Left\")\n",
        "elif direction == False:\n",
        "  print(\"Right\")"
      ],
      "execution_count": null,
      "outputs": [
        {
          "output_type": "stream",
          "name": "stdout",
          "text": [
            "128\n"
          ]
        }
      ]
    },
    {
      "cell_type": "code",
      "metadata": {
        "id": "OM9m_uIRXfsD"
      },
      "source": [
        "def directioning(data):\n",
        "  # check the last 5 datapoints to differentiate left or right\n",
        "  count1 = 0\n",
        "  count2 = 1\n",
        "  length = len(data)\n",
        "  test = data[length-4: length, 4]\n",
        "  for x in test:\n",
        "    if x < 0:\n",
        "      count1 = count1 + 1 # right\n",
        "    elif x > 0:\n",
        "      count2 = count2 + 1 # left\n",
        "\n",
        "  if count1 > count2:\n",
        "    return False # right\n",
        "  elif count2 > count1:\n",
        "    return True # left"
      ],
      "execution_count": null,
      "outputs": []
    },
    {
      "cell_type": "code",
      "metadata": {
        "colab": {
          "base_uri": "https://localhost:8080/"
        },
        "id": "jM2aNxNbaLRy",
        "outputId": "593011c5-572a-474d-9a11-1b60a5b6755e"
      },
      "source": [
        "import pandas as pd\n",
        "import numpy as np\n",
        "left = 1\n",
        "middle = 2\n",
        "right = 3\n",
        "\n",
        "# position1 = dancer1 position\n",
        "# position2 = dancer2 position\n",
        "# position3 = dancer3 position\n",
        "position1 = left\n",
        "position2 = middle\n",
        "position3 = right\n",
        "\n",
        "try:     \n",
        "  dancer1 = pd.read_csv('/content/drive/MyDrive/CG4002/testing data/left_1.txt').values\n",
        "  len1 = len(dancer1)\n",
        "except pd.errors.EmptyDataError:\n",
        "  len1 = 0\n",
        "try:     \n",
        "  dancer2 = pd.read_csv('/content/drive/MyDrive/CG4002/testing data/right_2.txt').values\n",
        "  len2 = len(dancer2)\n",
        "except pd.errors.EmptyDataError:\n",
        "  len2= 0\n",
        "try:     \n",
        "  dancer3 = pd.read_csv('/content/drive/MyDrive/CG4002/testing data/right5.txt').values\n",
        "  len3 = len(dancer3)\n",
        "except pd.errors.EmptyDataError:\n",
        "  len3 = 0\n",
        "\n",
        "if (len1 == 0 and len2 == 0 and len3 == 0): # all three do not move\n",
        "  pass\n",
        "elif(len1 == 0): # dancer1 does not move\n",
        "  temp = position2\n",
        "  position2 = position3\n",
        "  position3 = temp\n",
        "elif (len2 == 0): # dancer2 does not move\n",
        "  temp = position1\n",
        "  position1 = position3\n",
        "  position3 = temp\n",
        "elif (len3 == 0): # dancer3 does not move\n",
        "  temp = position1\n",
        "  position1 = position2\n",
        "  position2 = temp\n",
        "else: # all three moves\n",
        "  direction1 = directioning(dancer1)\n",
        "  direction2 = directioning(dancer2)\n",
        "  direction3 = directioning(dancer3)\n",
        "  if (position1 == left and position2 == middle and position3 == right): # 123\n",
        "    if (direction2 == True): # dancer1 to right, dancer2 to left, dancer3 to left --> 231\n",
        "      position1 = right\n",
        "      position2 = left\n",
        "      position3 = middle\n",
        "    elif (direction2 == False): # dancer1 to right, dancer2 to right, dancer3 to left --> 312\n",
        "      position3 = left\n",
        "      position2 = right\n",
        "      position1 = middle\n",
        "  elif (position1 == left and position2 == right and position3 == middle): # 132\n",
        "    if (direction3 == True): # dancer1 to right, dancer2 to left, dancer3 to left --> 321\n",
        "      position1 = right\n",
        "      position2 = middle\n",
        "      position3 = left\n",
        "    elif (direction3 == False): # dancer1 to right, dancer2 to left, dancer3 to right --> 213\n",
        "      position3 = right\n",
        "      position2 = left\n",
        "      position1 = middle\n",
        "  elif (position1 == middle and position2 == left and position3 == right): # 213\n",
        "    if (direction1 == False): # dancer1 to right, dancer2 to right, dancer3 to left --> 321\n",
        "      position1 = right\n",
        "      position2 = middle\n",
        "      position3 = left\n",
        "    elif (direction1 == True): # dancer1 to left, dancer2 to right, dancer3 to left --> 132\n",
        "      position3 = middle\n",
        "      position2 = right\n",
        "      position1 = left\n",
        "  elif (position1 == middle and position2 == right and position3 == left): # 312\n",
        "    if (direction1 == False): # dancer1 to right, dancer2 to left, dancer3 to right --> 231\n",
        "      position1 = right\n",
        "      position2 = left\n",
        "      position3 = middle\n",
        "    elif (direction1 == True): # dancer1 to left, dancer2 to left, dancer3 to right --> 123\n",
        "      position3 = right\n",
        "      position2 = middle\n",
        "      position1 = left\n",
        "  elif (position1 == right and position2 == left and position3 == middle): # 231\n",
        "    if (direction3 == True): # dancer1 to left, dancer2 to right, dancer3 to left --> 312\n",
        "      position1 = middle\n",
        "      position2 = right\n",
        "      position3 = left\n",
        "    elif (direction3 == False): # dancer1 to left, dancer2 to right, dancer3 to right --> 123\n",
        "      position3 = right\n",
        "      position2 = middle\n",
        "      position1 = left\n",
        "  elif (position1 == right and position2 == middle and position3 == left): # 321\n",
        "    if (direction2 == False): # dancer1 to left, dancer2 to right, dancer3 to right --> 132\n",
        "      position1 = left\n",
        "      position2 = right\n",
        "      position3 = middle\n",
        "    elif (direction2 == True): # dancer1 to left, dancer2 to left, dancer3 to right --> 213\n",
        "      position3 = right\n",
        "      position2 = left\n",
        "      position1 = middle\n",
        "\n",
        "output = return_output(position1, position2, position3)\n",
        "print(output)"
      ],
      "execution_count": null,
      "outputs": [
        {
          "output_type": "stream",
          "name": "stdout",
          "text": [
            "312\n"
          ]
        }
      ]
    }
  ]
}